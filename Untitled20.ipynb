{
 "cells": [
  {
   "cell_type": "code",
   "execution_count": 26,
   "id": "b45ff566",
   "metadata": {},
   "outputs": [
    {
     "ename": "Terminator",
     "evalue": "",
     "output_type": "error",
     "traceback": [
      "\u001b[1;31m---------------------------------------------------------------------------\u001b[0m",
      "\u001b[1;31mTerminator\u001b[0m                                Traceback (most recent call last)",
      "Cell \u001b[1;32mIn[26], line 15\u001b[0m\n\u001b[0;32m     13\u001b[0m     goto(hearta(i)\u001b[38;5;241m*\u001b[39m\u001b[38;5;241m20\u001b[39m,heartb(i)\u001b[38;5;241m*\u001b[39m\u001b[38;5;241m20\u001b[39m)\n\u001b[0;32m     14\u001b[0m     \u001b[38;5;28;01mfor\u001b[39;00m j \u001b[38;5;129;01min\u001b[39;00m \u001b[38;5;28mrange\u001b[39m(\u001b[38;5;241m5\u001b[39m):\n\u001b[1;32m---> 15\u001b[0m         \u001b[43mcolor\u001b[49m\u001b[43m(\u001b[49m\u001b[38;5;124;43m\"\u001b[39;49m\u001b[38;5;124;43m#f73487\u001b[39;49m\u001b[38;5;124;43m\"\u001b[39;49m\u001b[43m)\u001b[49m\n\u001b[0;32m     16\u001b[0m     goto(\u001b[38;5;241m0\u001b[39m,\u001b[38;5;241m0\u001b[39m)\n\u001b[0;32m     17\u001b[0m done()\n",
      "File \u001b[1;32m<string>:5\u001b[0m, in \u001b[0;36mcolor\u001b[1;34m(*args)\u001b[0m\n",
      "\u001b[1;31mTerminator\u001b[0m: "
     ]
    }
   ],
   "source": [
    "import math\n",
    "from turtle import *\n",
    "def hearta(k):\n",
    "    return 15*math.sin(k)**3\n",
    "def heartb(k):\n",
    "    return 12*math.cos(k)-5*\\\n",
    "            math.cos(2*k)-2*\\\n",
    "            math.cos(3*k)-\\\n",
    "            math.cos(4*k)\n",
    "speed(1000)\n",
    "bgcolor(\"black\")\n",
    "for i in range(6000):\n",
    "    goto(hearta(i)*20,heartb(i)*20)\n",
    "    for j in range(5):\n",
    "        color(\"#f73487\")\n",
    "    goto(0,0)\n",
    "done()    "
   ]
  },
  {
   "cell_type": "code",
   "execution_count": 7,
   "id": "0c7ec12c",
   "metadata": {},
   "outputs": [
    {
     "ename": "SyntaxError",
     "evalue": "invalid syntax (1305497275.py, line 1)",
     "output_type": "error",
     "traceback": [
      "\u001b[1;36m  Cell \u001b[1;32mIn[7], line 1\u001b[1;36m\u001b[0m\n\u001b[1;33m    :\u001b[0m\n\u001b[1;37m    ^\u001b[0m\n\u001b[1;31mSyntaxError\u001b[0m\u001b[1;31m:\u001b[0m invalid syntax\n"
     ]
    }
   ],
   "source": []
  },
  {
   "cell_type": "code",
   "execution_count": null,
   "id": "23196319",
   "metadata": {},
   "outputs": [],
   "source": []
  }
 ],
 "metadata": {
  "kernelspec": {
   "display_name": "Python 3 (ipykernel)",
   "language": "python",
   "name": "python3"
  },
  "language_info": {
   "codemirror_mode": {
    "name": "ipython",
    "version": 3
   },
   "file_extension": ".py",
   "mimetype": "text/x-python",
   "name": "python",
   "nbconvert_exporter": "python",
   "pygments_lexer": "ipython3",
   "version": "3.10.9"
  }
 },
 "nbformat": 4,
 "nbformat_minor": 5
}
